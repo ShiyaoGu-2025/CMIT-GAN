{
 "cells": [
  {
   "cell_type": "code",
   "execution_count": null,
   "id": "bb96fb37",
   "metadata": {},
   "outputs": [],
   "source": [
    "import PyAPD\n",
    "import matplotlib.pyplot as plt # for plotting\n",
    "import torch # go-to machine learning Python library\n",
    "import numpy as np # NumPy is the fundamental package for scientific computing with Python."
   ]
  },
  {
   "cell_type": "code",
   "execution_count": null,
   "id": "39a14b2b",
   "metadata": {},
   "outputs": [],
   "source": [
    "\n",
    "NUM_SAMPLES = 30000\n",
    "N_min, N_max = 5, 35  # categorical\n",
    "a, b = 0.05, 0.6      # uniform: ani_thres ∈ [a, b]\n",
    "mean, sigma, loc = 0.0, 0.5, 0.5  # lognormal\n",
    "\n",
    "for i in range(NUM_SAMPLES):\n",
    "    # 1)  N（int）\n",
    "    N = int(np.random.randint(N_min, N_max + 1))\n",
    "\n",
    "    # 2) ani_thres（float ）\n",
    "    ani_thres = float(np.random.uniform(a, b))\n",
    "\n",
    "    # 3) target_masses\n",
    "    raw = np.random.lognormal(mean, sigma, size=N) + loc\n",
    "    target_masses = raw / raw.sum()\n",
    "\n",
    "\n",
    "    apd1 = PyAPD.apd_system(N=N, ani_thres=ani_thres, seed = i)\n",
    "    apd1.check_optimality()\n",
    "    apd1.Lloyds_algorithm(K=10, verbosity_level = 0 )\n",
    "    img = apd1.assemble_apd().reshape(apd1.pixel_params).transpose(0,1).cpu() \n",
    "    img_s = (img + 1)/(img+1).max()  #shift values to [0,1]  \n",
    "    plt.imsave(f'/Users/shiyaogu/Documents/GANs/Set/pic{i}.png', img_s,cmap=plt.cm.gray)"
   ]
  }
 ],
 "metadata": {
  "kernelspec": {
   "display_name": "Python3p8",
   "language": "python",
   "name": "python3"
  },
  "language_info": {
   "codemirror_mode": {
    "name": "ipython",
    "version": 3
   },
   "file_extension": ".py",
   "mimetype": "text/x-python",
   "name": "python",
   "nbconvert_exporter": "python",
   "pygments_lexer": "ipython3",
   "version": "3.8.19"
  }
 },
 "nbformat": 4,
 "nbformat_minor": 5
}
